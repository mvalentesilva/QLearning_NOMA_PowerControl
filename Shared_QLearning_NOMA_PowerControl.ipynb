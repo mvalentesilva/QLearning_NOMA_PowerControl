{
  "nbformat": 4,
  "nbformat_minor": 0,
  "metadata": {
    "kernelspec": {
      "name": "python3",
      "display_name": "Python 3"
    },
    "language_info": {
      "codemirror_mode": {
        "name": "ipython",
        "version": 3
      },
      "file_extension": ".py",
      "mimetype": "text/x-python",
      "name": "python",
      "nbconvert_exporter": "python",
      "pygments_lexer": "ipython3",
      "version": "3.6.5"
    },
    "colab": {
      "name": "Shared QLearning_NOMA_PowerControl.ipynb",
      "provenance": [],
      "collapsed_sections": [
        "hrzm-gZfDRWE",
        "A17Ldx9fDRWJ",
        "-0HDz6RADRWO",
        "VeYmIIcYDRWR",
        "-5fm0edTrG_y",
        "P76yr1qR4ck8"
      ]
    }
  },
  "cells": [
    {
      "cell_type": "markdown",
      "metadata": {
        "id": "hrzm-gZfDRWE",
        "colab_type": "text"
      },
      "source": [
        "### Defines Devices calcPotInst(), calcSNR() e decodifica()"
      ]
    },
    {
      "cell_type": "code",
      "metadata": {
        "id": "vlWyeeh3DRWG",
        "colab_type": "code",
        "colab": {}
      },
      "source": [
        "import numpy as np\n",
        "from random import uniform\n",
        "\n",
        "class Device:\n",
        "    def __init__(self,r_min, r_max, power,k, power_ref, delta,control):\n",
        "        \n",
        "        self.r_max = r_max\n",
        "        self.r_min = r_min\n",
        "        self.power = power\n",
        "        self.power_max = power\n",
        "        self.PrControl = 0\n",
        "        self.randomizePlace()\n",
        "        if control:\n",
        "          self.setPowerTransmitControl(fc=915e6,n=3,pr_dBm = power_ref)\n",
        "        self.Q_Table = 2*np.random.random_sample((3,k)) - 1\n",
        "\n",
        "\n",
        "        self.estado_delta = 0 \n",
        "    \n",
        "    def setX(self, x):\n",
        "        self.x = x\n",
        "     \n",
        "    def setY(self, y):\n",
        "        self.y = y\n",
        "     \n",
        "    def getX(self):\n",
        "        return self.x\n",
        "         \n",
        "    def getY(self):\n",
        "        return self.y\n",
        "    \n",
        "    def getR(self):\n",
        "        return self.r\n",
        "    \n",
        "    def randomizePlace(self):\n",
        "        arg = 2*np.pi*uniform(0,1)\n",
        "        self.r = self.r_max*np.sqrt(uniform(self.r_min,1))\n",
        "        self.x = self.r*np.cos(arg)\n",
        "        self.y = self.r*np.sin(arg)\n",
        "        \n",
        "    def setPrControl(self,Pr_ctrl):\n",
        "        self.PrControl = Pr_ctrl\n",
        "        \n",
        "        \n",
        "    def getPr(self,n,fc,control=False):\n",
        "        \n",
        "        c = 3e8\n",
        "        d0 = 1\n",
        "        pt = self.power  #power transmitted\n",
        "        d=self.r*1e3\n",
        "\n",
        "        pl_d0 = -20*np.log10(c/(fc*4*np.pi*d0))\n",
        "\n",
        "        pr_d0 = pt-pl_d0\n",
        "\n",
        "        pr = pr_d0 - 10*n*np.log10(d/d0)\n",
        "\n",
        "        pr_dBm = pr+30\n",
        "\n",
        "        return pr_dBm\n",
        "\n",
        "    def setEstadoDelta(self, estado):\n",
        "      self.estado_delta = estado\n",
        "\n",
        "    def setPowerTransmitControl(self, n,fc,pr_dBm):\n",
        "\n",
        "      c = 3e8\n",
        "      d0 = 1\n",
        "      d=self.r*1e3\n",
        "      pl_d0 = -20*np.log10(c/(fc*4*np.pi*d0))\n",
        "      pt = pr_dBm - 30 + 10*n*np.log10(d/d0) + pl_d0\n",
        "\n",
        "      self.power = pt\n",
        "\n",
        "    def setPt(self, pt):\n",
        "\n",
        "      self.power = pt\n",
        "\n",
        "\n",
        "def calcPotInst(PotMedia):\n",
        "    \n",
        "    PotInst = np.random.rayleigh(PotMedia, 1)\n",
        "     \n",
        "    return PotInst\n",
        "def calcSNR(dev_index, devices,r,noma,fading,control):\n",
        "    \n",
        "    ctrl = control\n",
        "    SINR = np.zeros(len(dev_index))\n",
        "    PowerRec = np.zeros(len(dev_index))\n",
        "    \n",
        "    for i,d in enumerate(dev_index):\n",
        "        if(fading):\n",
        "            PowerRec[i] = calcPotInst(10**((devices[d].getPr(3,915e6,ctrl)-30)/10)) # potencia em watts\n",
        "        else:\n",
        "            PowerRec[i] = 10**((devices[d].getPr(3,915e6,ctrl)-30)/10)\n",
        "            \n",
        "   #print(PowerRec)\n",
        "\n",
        "    refPowerRec = PowerRec\n",
        "    falha = False\n",
        "    for i,d in enumerate(dev_index):\n",
        "        if noma:\n",
        "            \n",
        "            SINR[np.where(refPowerRec == np.amax(PowerRec))] = np.amax(PowerRec)/(np.sum(PowerRec[PowerRec != np.amax(PowerRec)]) + 1.58e-15)\n",
        "            if (SINR[np.where(refPowerRec == np.amax(PowerRec))] < (2**r -1) or falha == True):\n",
        "                falha = True\n",
        "                SINR[np.where(refPowerRec == np.amax(PowerRec))] = -1000\n",
        "                \n",
        "                \n",
        "            PowerRec = PowerRec[PowerRec != np.amax(PowerRec)]\n",
        "            \n",
        "        else:\n",
        "            if (i==0):\n",
        "                SINR[np.where(refPowerRec == np.amax(PowerRec))] = np.amax(PowerRec)/(np.sum(PowerRec[PowerRec != np.amax(PowerRec)]) + 1.58e-15)\n",
        "            else:\n",
        "                SINR[np.where(refPowerRec == np.amax(PowerRec))] = -1000\n",
        "            PowerRec = PowerRec[PowerRec != np.amax(PowerRec)]\n",
        "    return SINR\n",
        "\n",
        "\n",
        "def decodifica(slots_escolhidos, devices, r,noma,fading,control):\n",
        "    dev_success = np.zeros(len(devices))\n",
        "    k=0\n",
        "    slots_ref = slots_escolhidos\n",
        "    \n",
        "    while(len(slots_escolhidos) > 0):\n",
        "        \n",
        "        k +=1\n",
        "\n",
        "        \n",
        "        dev_index = np.where(slots_ref == slots_escolhidos[0])[0]\n",
        "        \n",
        "        SNR = calcSNR(dev_index,devices,r,noma,fading,control)\n",
        "        for j,snr in enumerate(SNR):\n",
        "            if (snr > (2**r - 1)):\n",
        "                dev_success[dev_index[j]] = 1\n",
        "   \n",
        "        slots_escolhidos = slots_escolhidos[slots_escolhidos != slots_escolhidos[0]]\n",
        "        \n",
        "    return dev_success"
      ],
      "execution_count": null,
      "outputs": []
    },
    {
      "cell_type": "markdown",
      "metadata": {
        "id": "A17Ldx9fDRWJ",
        "colab_type": "text"
      },
      "source": [
        "### Rate and Reach"
      ]
    },
    {
      "cell_type": "code",
      "metadata": {
        "id": "gdJQBvaRDRWK",
        "colab_type": "code",
        "colab": {}
      },
      "source": [
        "def define_alcance(r):\n",
        "    \n",
        "  c = 3e8\n",
        "  fc = 915e6\n",
        "  n=3\n",
        "  d0 = 1\n",
        "  pt = -20#-20db\n",
        "\n",
        "  pn = 1.58e-15\n",
        "\n",
        "  pl_d0 = -20*np.log10(c/(fc*4*np.pi*d0))\n",
        "\n",
        "  pr_d0 = pt-pl_d0\n",
        "\n",
        "  pr_db = 10*np.log10(pn*(2**r-1))\n",
        "  print(pr_db)\n",
        "  alcance = ((10**((pr_db - pr_d0)/(-10*n)))/d0)/1e3\n",
        "\n",
        "  return alcance"
      ],
      "execution_count": null,
      "outputs": []
    },
    {
      "cell_type": "code",
      "metadata": {
        "id": "XfZHCQoo6TYI",
        "colab_type": "code",
        "colab": {}
      },
      "source": [
        "def define_alcance_controle(pr_db):\n",
        "  c = 3e8\n",
        "  fc = 915e6\n",
        "  n=3\n",
        "  d0 = 1\n",
        "  pt = -20#-20db\n",
        "  pn = 1.58e-15\n",
        "\n",
        "  pl_d0 = -20*np.log10(c/(fc*4*np.pi*d0))\n",
        "\n",
        "  pr_d0 = pt-pl_d0\n",
        "\n",
        "  alcance = ((10**((pr_db - pr_d0)/(-10*n)))/d0)/1e3\n",
        "\n",
        "  return alcance"
      ],
      "execution_count": null,
      "outputs": []
    },
    {
      "cell_type": "markdown",
      "metadata": {
        "id": "-0HDz6RADRWO",
        "colab_type": "text"
      },
      "source": [
        "### Aloha"
      ]
    },
    {
      "cell_type": "code",
      "metadata": {
        "id": "Z0lo6tCxDRWO",
        "colab_type": "code",
        "colab": {
          "base_uri": "https://localhost:8080/",
          "height": 51
        },
        "outputId": "d9cedc94-4310-4495-8089-2d4bba2066b9"
      },
      "source": [
        "%%time\n",
        "import numpy as np\n",
        "import matplotlib.pyplot as plt\n",
        "def alohaArtigo(devices, k,l):\n",
        "\n",
        "      tpt = np.zeros(len(devices))\n",
        "      colisao_total = np.zeros(len(devices))\n",
        "      for i,dev in enumerate(devices):\n",
        "          for count in range(l):\n",
        "          \n",
        "              frame = np.random.randint(1,k+1,dev)\n",
        "              uniqueValues = np.unique(frame)\n",
        "              uniqueValues, occurCount = np.unique(frame, return_counts=True)\n",
        "              sucesso=np.count_nonzero(occurCount == 1)\n",
        "              colisao = 0\n",
        "              for col in range(len(occurCount)):\n",
        "                  if occurCount[col] > 1:\n",
        "                      colisao += occurCount[col]\n",
        "              tpt[i] += sucesso/k\n",
        "              colisao_total[i] += colisao/k\n",
        "\n",
        "      tpt = tpt/l\n",
        "      colisao_total = colisao_total/l\n",
        "\n",
        "      tpt3 =tpt\n",
        "\n",
        "      colisao1 = colisao_total\n",
        "\n",
        "      return tpt3"
      ],
      "execution_count": null,
      "outputs": [
        {
          "output_type": "stream",
          "text": [
            "CPU times: user 12 µs, sys: 0 ns, total: 12 µs\n",
            "Wall time: 14.1 µs\n"
          ],
          "name": "stdout"
        }
      ]
    },
    {
      "cell_type": "markdown",
      "metadata": {
        "id": "VeYmIIcYDRWR",
        "colab_type": "text"
      },
      "source": [
        "### Aloha with Power decoding main function\n"
      ]
    },
    {
      "cell_type": "code",
      "metadata": {
        "id": "gABnw2aQDRWR",
        "colab_type": "code",
        "colab": {
          "base_uri": "https://localhost:8080/",
          "height": 51
        },
        "outputId": "206241ab-28a0-4a6a-e363-370d5c4d704d"
      },
      "source": [
        "%%time\n",
        "import numpy as np\n",
        "import matplotlib.pyplot as plt\n",
        "\n",
        "def aloha_power_decoding(devices,alcance, taxa, k, l, noma, fading, control):\n",
        "\n",
        "      tpt = np.zeros(len(devices))\n",
        "      colisao_total = np.zeros(len(devices))\n",
        "\n",
        "      for i,dev in enumerate(devices):\n",
        "          \n",
        "          for count in range(l):\n",
        "          \n",
        "              frame = np.random.randint(1,k+1,dev)\n",
        "              dispositivos = []\n",
        "              \n",
        "              for j in range(dev):\n",
        "                  \n",
        "                  disp = Device(r_min = 0.01,r_max = alcance, power = -20, k=k, power_ref= -130, delta=7,control=control )\n",
        "                  disp.setPt(-20)\n",
        "                  dispositivos.append(disp)\n",
        "                  \n",
        "              sucesso = np.sum(decodifica(frame,dispositivos,r=taxa,noma=noma,fading=fading,control=control))\n",
        "              tpt[i] += sucesso/k\n",
        "\n",
        "      tpt = tpt/l\n",
        "      tpt2_fad = tpt\n",
        "      return tpt2_fad"
      ],
      "execution_count": null,
      "outputs": [
        {
          "output_type": "stream",
          "text": [
            "CPU times: user 11 µs, sys: 2 µs, total: 13 µs\n",
            "Wall time: 15.5 µs\n"
          ],
          "name": "stdout"
        }
      ]
    },
    {
      "cell_type": "markdown",
      "metadata": {
        "colab_type": "text",
        "id": "-5fm0edTrG_y"
      },
      "source": [
        "### Q_Learning Main Function\n",
        "\n"
      ]
    },
    {
      "cell_type": "code",
      "metadata": {
        "colab_type": "code",
        "id": "YHd7CpsBrG_4",
        "colab": {
          "base_uri": "https://localhost:8080/",
          "height": 51
        },
        "outputId": "7a64527b-0ce3-48e0-cc5b-3642d4de5f71"
      },
      "source": [
        "%%time\n",
        "import numpy as np\n",
        "import matplotlib.pyplot as plt\n",
        "\n",
        "def qlearning_simulation(devices,alcance,taxa, k, l, alpha, gamma, noma, fading, control,cong_level,pr_control_dBm,delta_db):\n",
        "\n",
        "      tpt = np.zeros(len(devices))\n",
        "      tpt_novo = np.zeros(len(devices))\n",
        "      colisao_total = np.zeros(len(devices))\n",
        "      pw_mean = np.zeros(len(devices))\n",
        "\n",
        "      for i,dev in enumerate(devices):\n",
        "          \n",
        "          Q_Values = np.zeros((dev,k))\n",
        "          # Q_Values = 2*np.random.random_sample((dev,k)) - 1\n",
        "          \n",
        "          dispositivos = []\n",
        "          for j in range(dev):\n",
        "                  disp = Device(r_min = 0.01,r_max = alcance, power = -20, k=k, power_ref= pr_control_dBm, delta=delta_db,control=control )\n",
        "                  # if(control == False):\n",
        "                  #   disp.setPt(-20)\n",
        "                  # else:\n",
        "                  #   disp.setPowerTransmitControl(fc=915e6,n=3,pr_dBm = pr_control_dBm-delta_db)\n",
        "\n",
        "                  dispositivos.append(disp)\n",
        "          \n",
        "          for count in range(l):        \n",
        "              \n",
        "              frame = np.zeros(dev).astype(int)\n",
        "              \n",
        "              for g in range(dev):\n",
        "                  \n",
        "                  result = np.where(Q_Values[g,:] == np.max(Q_Values[g,:]))\n",
        "                  select = np.random.choice(result[0])\n",
        "                  frame[g] = select\n",
        "              \n",
        "              dev_sucesso = decodifica(frame,dispositivos,r=taxa,noma=noma,fading=fading,control=control)\n",
        "\n",
        "              for q in range(dev):\n",
        "                  \n",
        "                  if dev_sucesso[q] == 1:\n",
        "                      \n",
        "                      Q_Values[q,frame[q]] = Q_Values[q,frame[q]] + alpha*(1-Q_Values[q,frame[q]]+ gamma*np.max(Q_Values[q,:]))\n",
        "                      \n",
        "                  else:\n",
        "                    ### recompensa artigo original ###\n",
        "                      if(cong_level):\n",
        "                          CL = (frame == frame[q]).sum()\n",
        "                          Q_Values[q,frame[q]] = Q_Values[q,frame[q]] + alpha*(-CL/dev-Q_Values[q,frame[q]]+ gamma*np.max(Q_Values[q,:]))\n",
        "                    ### recompensa normal r = - 1 ###\n",
        "                      else:\n",
        "                          Q_Values[q,frame[q]] = Q_Values[q,frame[q]] + alpha*(-1-Q_Values[q,frame[q]]+ gamma*np.max(Q_Values[q,:]))\n",
        "\n",
        "              sucesso = np.sum(dev_sucesso)\n",
        "              tpt[i] += sucesso/k\n",
        "              tpt_novo[i] += sucesso/dev\n",
        "\n",
        "          soma_power = 0\n",
        "          for d in range(dev):\n",
        "            soma_power += dispositivos[d].power\n",
        "            # if(dispositivos[d].power > -20):\n",
        "            #   print(dispositivos[d].r,dispositivos[d].power)\n",
        "\n",
        "          # print(\"Pt média:\",soma_power/dev)\n",
        "          pw_mean[i] = soma_power/dev\n",
        "\n",
        "      # for d in range(dev):\n",
        "      #   print(dispositivos[d].getPr(n=3,fc=915e6,control=True))\n",
        "      tpt = tpt/l\n",
        "      tpt_novo = tpt_novo/l\n",
        "      return tpt, pw_mean"
      ],
      "execution_count": null,
      "outputs": [
        {
          "output_type": "stream",
          "text": [
            "CPU times: user 9 µs, sys: 2 µs, total: 11 µs\n",
            "Wall time: 14.1 µs\n"
          ],
          "name": "stdout"
        }
      ]
    },
    {
      "cell_type": "markdown",
      "metadata": {
        "id": "P76yr1qR4ck8",
        "colab_type": "text"
      },
      "source": [
        "### Q_learning power control"
      ]
    },
    {
      "cell_type": "code",
      "metadata": {
        "id": "ptqe9fzA4fvj",
        "colab_type": "code",
        "colab": {
          "base_uri": "https://localhost:8080/",
          "height": 51
        },
        "outputId": "8ded3f33-42a2-47ed-a6ac-cc491bc737f4"
      },
      "source": [
        "%%time\n",
        "import numpy as np\n",
        "import matplotlib.pyplot as plt\n",
        "\n",
        "def qlearning_simulation_delta(devices,alcance,taxa, k, l, alpha, gamma, noma, fading, control,cong_level,pr_control_dBm,delta_db,rwd_pw):\n",
        "\n",
        "      tpt = np.zeros(len(devices))\n",
        "      tpt_novo = np.zeros(len(devices))\n",
        "      colisao_total = np.zeros(len(devices))\n",
        "      pw_mean = np.zeros(len(devices))\n",
        "\n",
        "      for i,dev in enumerate(devices):\n",
        "                    \n",
        "          dispositivos = []\n",
        "          for j in range(dev):\n",
        "                  disp = Device(r_min = 0.01,r_max = alcance, power = -20, k=k,power_ref=pr_control_dBm,delta=delta_db,control=control)\n",
        "                  dispositivos.append(disp)\n",
        "          \n",
        "          for count in range(l):        \n",
        "              \n",
        "              frame = np.zeros(dev).astype(int)\n",
        "              \n",
        "              for g in range(dev):\n",
        "                  \n",
        "                  result = np.where(dispositivos[g].Q_Table == np.max(dispositivos[g].Q_Table))\n",
        "                  options = np.arange(len(result[0]))\n",
        "                  select = np.random.choice(options)\n",
        "                  slot = result[1][select]\n",
        "                  estado_pr = result[0][select]\n",
        "                  frame[g] = slot\n",
        "                  dispositivos[g].setEstadoDelta(estado_pr)\n",
        "\n",
        "                  if (estado_pr == 0):\n",
        "                    dispositivos[g].setPowerTransmitControl(fc=915e6,n=3,pr_dBm = pr_control_dBm-delta_db)\n",
        "                  elif (estado_pr == 1):\n",
        "                    dispositivos[g].setPowerTransmitControl(fc=915e6,n=3,pr_dBm = pr_control_dBm)\n",
        "                  else:\n",
        "                    dispositivos[g].setPowerTransmitControl(fc=915e6,n=3,pr_dBm = pr_control_dBm+delta_db)\n",
        "              \n",
        "              dev_sucesso = decodifica(frame,dispositivos,r=taxa,noma=noma,fading=fading,control=control)\n",
        "\n",
        "              for q in range(dev):\n",
        "                  \n",
        "                  if dev_sucesso[q] == 1:\n",
        "                      #recompensa pela potencia 10/pt_dbm\n",
        "                      if(rwd_pw):\n",
        "                        dispositivos[q].Q_Table[dispositivos[q].estado_delta,frame[q]] = dispositivos[q].Q_Table[dispositivos[q].estado_delta,frame[q]] + alpha*((10/(dispositivos[q].power+30))-dispositivos[q].Q_Table[dispositivos[q].estado_delta,frame[q]]+gamma*np.max(dispositivos[q].Q_Table))\n",
        "                      else: #recompensa comum = 1\n",
        "                        dispositivos[q].Q_Table[dispositivos[q].estado_delta,frame[q]] = dispositivos[q].Q_Table[dispositivos[q].estado_delta,frame[q]] + alpha*(1-dispositivos[q].Q_Table[dispositivos[q].estado_delta,frame[q]]+gamma*np.max(dispositivos[q].Q_Table))  \n",
        "                  else:\n",
        "                      dispositivos[q].Q_Table[dispositivos[q].estado_delta,frame[q]] = dispositivos[q].Q_Table[dispositivos[q].estado_delta,frame[q]] + alpha*(-1-dispositivos[q].Q_Table[dispositivos[q].estado_delta,frame[q]]+gamma*np.max(dispositivos[q].Q_Table)) \n",
        "\n",
        "              sucesso = np.sum(dev_sucesso)\n",
        "              tpt[i] += sucesso/k\n",
        "              tpt_novo[i] += sucesso/dev\n",
        "\n",
        "          # print(dev,\":\\n\")\n",
        "          soma_power = 0\n",
        "          for d in range(dev):\n",
        "            soma_power += dispositivos[d].power\n",
        "            if(dispositivos[d].power > -20):\n",
        "              print(dispositivos[d].r,dispositivos[d].power)\n",
        "\n",
        "          # print(\"Pt média:\",soma_power/dev)\n",
        "          pw_mean[i] = soma_power/dev              \n",
        "\n",
        "      # print(pw_mean/len(devices))\n",
        "      tpt = tpt/l\n",
        "      tpt_novo = tpt_novo/l\n",
        "      return tpt, pw_mean"
      ],
      "execution_count": null,
      "outputs": [
        {
          "output_type": "stream",
          "text": [
            "CPU times: user 18 µs, sys: 0 ns, total: 18 µs\n",
            "Wall time: 21.5 µs\n"
          ],
          "name": "stdout"
        }
      ]
    }
  ]
}